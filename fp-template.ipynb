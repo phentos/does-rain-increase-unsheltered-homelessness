{
 "cells": [
  {
   "cell_type": "markdown",
   "id": "bfd61ee0",
   "metadata": {
    "deletable": false,
    "editable": false,
    "nbgrader": {
     "cell_type": "markdown",
     "checksum": "d4ebfa192ceb670e9a2f5e2687479703",
     "grade": false,
     "grade_id": "cell-0d58e96752b28a05",
     "locked": true,
     "schema_version": 3,
     "solution": false,
     "task": false
    }
   },
   "source": [
    "# Final Project\n",
    "\n",
    "Korey Ray\n",
    "\n",
    "### About this template\n",
    "\n",
    "This file is a **template** for filling out and submitting your final project. As such, I've created sub-sections along the lines of what we'd like to see. Your job is to **fill out** these sections, using the dataset and research question of your choice.\n",
    "\n",
    "### Things to be aware of\n",
    "\n",
    "- Your project likely depends on **data**. Make sure any dataset you will analyze is *stored in your DataHub directory*, so you can submit it along with your project.  \n",
    "- Each of these sections will be assigned a point score. Make sure you add code cells in the relevant section, as needed.\n",
    "- The final project should be completed independently."
   ]
  },
  {
   "cell_type": "markdown",
   "id": "201223df",
   "metadata": {
    "deletable": false,
    "editable": false,
    "nbgrader": {
     "cell_type": "markdown",
     "checksum": "f9b2987f03dfdd43318cc0fcb7994fca",
     "grade": false,
     "grade_id": "cell-3adfb783acefcaa0",
     "locked": true,
     "schema_version": 3,
     "solution": false,
     "task": false
    }
   },
   "source": [
    "## Introduction (2 pts.)\n",
    "\n",
    "<!-- Questions to answer:\n",
    "\n",
    "1. What dataset are you looking at? \n",
    "2. Where/how was it created? \n",
    "3. What research question(s) will you be asking? \n",
    "\n",
    "These should be answered in Markdown. -->"
   ]
  },
  {
   "cell_type": "markdown",
   "id": "76c64ea9",
   "metadata": {},
   "source": [
    "### Dataset #1\n",
    "- Dataset Name: Downtown San Diego Unsheltered Count\n",
    "- Link to the dataset: [downtownsandiego.org](https://downtownsandiego.org/clean-and-safe/unhoused-care/) [(pdf)](https://downtownsandiego.org/wp-content/uploads/2024/03/February-2024-Unsheltered-Count-w-Maps.pdf)\n",
    "- Number of observations: 146 (12 months * 12 years + 2 months)\n",
    "- Number of variables: 2 (date, count)\n",
    "\n",
    "This dataset contains monthly counts of unsheltered people performed by the Downtown San Diego Partnership using the Clean & Safe Program methodology. The `.pdf` was converted to `.csv` by hand."
   ]
  },
  {
   "cell_type": "markdown",
   "id": "c828961b",
   "metadata": {},
   "source": [
    "### Dataset #2\n",
    "- Dataset Name: Downtown San Diego Precipitation\n",
    "- Link to the dataset: generated from [scacis.rcc-acis.org](https://scacis.rcc-acis.org/)\n",
    "- Number of observations: 146 (12 months * 12 years + 2 months)\n",
    "- Number of variables: 2 (date, precipitation)\n",
    "\n",
    "This dataset contains the monthly sum of precipitation (in inches of water) January 2012 to March 2024, measured at the San Diego International Airport weather station. This acts as a proxy for the precipitation experienced across the rest of Downtown San Diego."
   ]
  },
  {
   "cell_type": "markdown",
   "id": "e431b93a",
   "metadata": {},
   "source": [
    "### Research Question\n",
    "How closely has the unsheltered homeless count correlated to precipitation?"
   ]
  },
  {
   "cell_type": "markdown",
   "id": "a0bbc679",
   "metadata": {
    "deletable": false,
    "editable": false,
    "nbgrader": {
     "cell_type": "markdown",
     "checksum": "6d3e43470865d31109f4103cc9af01a0",
     "grade": false,
     "grade_id": "cell-a3723899845cad46",
     "locked": true,
     "schema_version": 3,
     "solution": false,
     "task": false
    }
   },
   "source": [
    "## Data (3 pts.)\n",
    "\n",
    "This section should contain **descriptive statistics** about your data. This includes (but is not limited to):\n",
    "\n",
    "1. Overall `shape` of the data. \n",
    "2. Summary statistics, e.g., central tendency, variability, of key **features** (i.e., columns).\n",
    "3. Histograms / count-plots of key features (i.e., columns). \n",
    "4. Information about missing values, if relevant.  \n",
    "5. Information about **merging** datasets, if relevant.\n",
    "\n",
    "These should be **answered** using Python code (but can be written in Markdown if you prefer)."
   ]
  },
  {
   "cell_type": "markdown",
   "id": "ddc691c2",
   "metadata": {},
   "source": [
    "### Set Up"
   ]
  },
  {
   "cell_type": "markdown",
   "id": "9fc180cd",
   "metadata": {},
   "source": [
    "#### Imports & Helpers"
   ]
  },
  {
   "cell_type": "code",
   "execution_count": 36,
   "id": "5d344013",
   "metadata": {
    "deletable": false,
    "nbgrader": {
     "cell_type": "code",
     "checksum": "1435b52c76526a1ef84d9021584a953b",
     "grade": true,
     "grade_id": "cell-44789343c1b31b38",
     "locked": false,
     "points": 3,
     "schema_version": 3,
     "solution": true,
     "task": false
    }
   },
   "outputs": [],
   "source": [
    "import pandas as pd\n",
    "import seaborn as sns\n",
    "import matplotlib.pyplot as plt\n",
    "import math\n",
    "\n",
    "# data\n",
    "def fetchMeltMerge(csv, id, var, value, data):\n",
    "  newData = pd.read_csv(csv, skipinitialspace=True)\n",
    "  newMelt = pd.melt(newData, id_vars=[id], var_name=var, value_name=value)\n",
    "  \n",
    "  if data.empty:\n",
    "    return newMelt\n",
    "  else:\n",
    "    return pd.merge(data, newMelt, on=[id, var], how='outer')\n",
    "  \n",
    "# visualization\n",
    "plt.rcParams['figure.figsize'] = (16, 8)\n",
    "uhc = \"Unsheltered Homeless Count\"\n",
    "\n",
    "def noLabels():\n",
    "  plt.xlabel(\" \")\n",
    "  plt.ylabel(\" \")\n"
   ]
  },
  {
   "cell_type": "markdown",
   "id": "dc30ac64",
   "metadata": {},
   "source": [
    "#### Wrangling"
   ]
  },
  {
   "cell_type": "code",
   "execution_count": 5,
   "id": "4ef7247f",
   "metadata": {},
   "outputs": [],
   "source": [
    "# dataName, dataLocation\n",
    "dataFiles = [\n",
    "  ('uhc', 'adata/dt_sd_unsheltered_count.csv'),\n",
    "  ('precip', 'adata/sd_precip_92101.csv')\n",
    "]\n",
    "\n",
    "# create an empty frame to populate\n",
    "df = pd.DataFrame()\n",
    "\n",
    "# pull in all the data\n",
    "for dataName, dataLocation in dataFiles:\n",
    "  df = fetchMeltMerge(dataLocation, 'Year', 'Month', dataName, df)\n",
    "\n",
    "# do some cleaning up\n",
    "monthToNumber = {\n",
    "    'Jan': 1, 'Feb': 2, 'Mar': 3, 'Apr': 4, 'May': 5, 'Jun': 6,\n",
    "    'Jul': 7, 'Aug': 8, 'Sep': 9, 'Oct': 10, 'Nov': 11, 'Dec': 12\n",
    "}\n",
    "\n",
    "df['Month'].replace(monthToNumber, inplace=True)\n",
    "df = df.sort_values(by=['Year', 'Month']).reset_index(drop=True)\n",
    "df.rename(columns={'Month':'month', 'Year':'year'}, inplace=True)"
   ]
  },
  {
   "cell_type": "markdown",
   "id": "ddcf4e53",
   "metadata": {},
   "source": [
    "### Exploratory Data Analysis"
   ]
  },
  {
   "cell_type": "code",
   "execution_count": 6,
   "id": "80eef5b7",
   "metadata": {},
   "outputs": [
    {
     "data": {
      "text/html": [
       "<div>\n",
       "<style scoped>\n",
       "    .dataframe tbody tr th:only-of-type {\n",
       "        vertical-align: middle;\n",
       "    }\n",
       "\n",
       "    .dataframe tbody tr th {\n",
       "        vertical-align: top;\n",
       "    }\n",
       "\n",
       "    .dataframe thead th {\n",
       "        text-align: right;\n",
       "    }\n",
       "</style>\n",
       "<table border=\"1\" class=\"dataframe\">\n",
       "  <thead>\n",
       "    <tr style=\"text-align: right;\">\n",
       "      <th></th>\n",
       "      <th>year</th>\n",
       "      <th>month</th>\n",
       "      <th>uhc</th>\n",
       "      <th>precip</th>\n",
       "    </tr>\n",
       "  </thead>\n",
       "  <tbody>\n",
       "    <tr>\n",
       "      <th>0</th>\n",
       "      <td>2012</td>\n",
       "      <td>1</td>\n",
       "      <td>486.0</td>\n",
       "      <td>0.40</td>\n",
       "    </tr>\n",
       "    <tr>\n",
       "      <th>1</th>\n",
       "      <td>2012</td>\n",
       "      <td>2</td>\n",
       "      <td>485.0</td>\n",
       "      <td>1.19</td>\n",
       "    </tr>\n",
       "    <tr>\n",
       "      <th>2</th>\n",
       "      <td>2012</td>\n",
       "      <td>3</td>\n",
       "      <td>405.0</td>\n",
       "      <td>0.97</td>\n",
       "    </tr>\n",
       "    <tr>\n",
       "      <th>3</th>\n",
       "      <td>2012</td>\n",
       "      <td>4</td>\n",
       "      <td>453.0</td>\n",
       "      <td>0.88</td>\n",
       "    </tr>\n",
       "    <tr>\n",
       "      <th>4</th>\n",
       "      <td>2012</td>\n",
       "      <td>5</td>\n",
       "      <td>513.0</td>\n",
       "      <td>0.02</td>\n",
       "    </tr>\n",
       "  </tbody>\n",
       "</table>\n",
       "</div>"
      ],
      "text/plain": [
       "   year  month    uhc  precip\n",
       "0  2012      1  486.0    0.40\n",
       "1  2012      2  485.0    1.19\n",
       "2  2012      3  405.0    0.97\n",
       "3  2012      4  453.0    0.88\n",
       "4  2012      5  513.0    0.02"
      ]
     },
     "execution_count": 6,
     "metadata": {},
     "output_type": "execute_result"
    }
   ],
   "source": [
    "df.head()"
   ]
  },
  {
   "cell_type": "code",
   "execution_count": 9,
   "id": "98da4fc6",
   "metadata": {},
   "outputs": [
    {
     "data": {
      "text/html": [
       "<div>\n",
       "<style scoped>\n",
       "    .dataframe tbody tr th:only-of-type {\n",
       "        vertical-align: middle;\n",
       "    }\n",
       "\n",
       "    .dataframe tbody tr th {\n",
       "        vertical-align: top;\n",
       "    }\n",
       "\n",
       "    .dataframe thead th {\n",
       "        text-align: right;\n",
       "    }\n",
       "</style>\n",
       "<table border=\"1\" class=\"dataframe\">\n",
       "  <thead>\n",
       "    <tr style=\"text-align: right;\">\n",
       "      <th></th>\n",
       "      <th>uhc</th>\n",
       "      <th>precip</th>\n",
       "    </tr>\n",
       "  </thead>\n",
       "  <tbody>\n",
       "    <tr>\n",
       "      <th>mean</th>\n",
       "      <td>912.294521</td>\n",
       "      <td>0.790616</td>\n",
       "    </tr>\n",
       "    <tr>\n",
       "      <th>std</th>\n",
       "      <td>364.987825</td>\n",
       "      <td>1.168362</td>\n",
       "    </tr>\n",
       "    <tr>\n",
       "      <th>min</th>\n",
       "      <td>405.000000</td>\n",
       "      <td>0.000000</td>\n",
       "    </tr>\n",
       "    <tr>\n",
       "      <th>25%</th>\n",
       "      <td>634.500000</td>\n",
       "      <td>0.010000</td>\n",
       "    </tr>\n",
       "    <tr>\n",
       "      <th>50%</th>\n",
       "      <td>801.500000</td>\n",
       "      <td>0.255000</td>\n",
       "    </tr>\n",
       "    <tr>\n",
       "      <th>75%</th>\n",
       "      <td>1128.500000</td>\n",
       "      <td>1.007500</td>\n",
       "    </tr>\n",
       "    <tr>\n",
       "      <th>max</th>\n",
       "      <td>2104.000000</td>\n",
       "      <td>5.140000</td>\n",
       "    </tr>\n",
       "  </tbody>\n",
       "</table>\n",
       "</div>"
      ],
      "text/plain": [
       "              uhc    precip\n",
       "mean   912.294521  0.790616\n",
       "std    364.987825  1.168362\n",
       "min    405.000000  0.000000\n",
       "25%    634.500000  0.010000\n",
       "50%    801.500000  0.255000\n",
       "75%   1128.500000  1.007500\n",
       "max   2104.000000  5.140000"
      ]
     },
     "execution_count": 9,
     "metadata": {},
     "output_type": "execute_result"
    }
   ],
   "source": [
    "df.iloc[:,2:].describe()[1:]"
   ]
  },
  {
   "cell_type": "markdown",
   "id": "29bb12eb",
   "metadata": {},
   "source": [
    "An initial key takeaway is the wide range for both variables, namely the gap between `min` and `max` in light of the mean for both. \n",
    "\n",
    "- The disparity in `uhc` is confounded by the dramatic increase in homelessness following COVID. \n",
    "- Precipitation's variation is driven by how frequently San Diego goes without rain paired with infrequent tropical storms. \n",
    "\n",
    "One of my insights from the prior work was that using rolling values for both was important to finding the connection. A rolling value for `precip` makes sense because a continuous rainy period is more likely to lead an unsheltered person acquire/use a structure such as a tent. That would in turn drive up `uhc`, as the Clean & Safe Program treats structures like tents as 2 people. Similarly, a rolling value for `uhc` reduces noise."
   ]
  },
  {
   "cell_type": "code",
   "execution_count": 95,
   "id": "791c9a1b",
   "metadata": {},
   "outputs": [],
   "source": [
    "df['roll3precip'] = df['precip'].rolling(3, min_periods=3).sum()\n",
    "\n",
    "df['roll3uhc'] = df['uhc'].rolling(3, min_periods=1, center=True).mean()"
   ]
  },
  {
   "cell_type": "code",
   "execution_count": 96,
   "id": "56c346ed",
   "metadata": {},
   "outputs": [
    {
     "data": {
      "text/html": [
       "<div>\n",
       "<style scoped>\n",
       "    .dataframe tbody tr th:only-of-type {\n",
       "        vertical-align: middle;\n",
       "    }\n",
       "\n",
       "    .dataframe tbody tr th {\n",
       "        vertical-align: top;\n",
       "    }\n",
       "\n",
       "    .dataframe thead th {\n",
       "        text-align: right;\n",
       "    }\n",
       "</style>\n",
       "<table border=\"1\" class=\"dataframe\">\n",
       "  <thead>\n",
       "    <tr style=\"text-align: right;\">\n",
       "      <th></th>\n",
       "      <th>year</th>\n",
       "      <th>month</th>\n",
       "      <th>uhc</th>\n",
       "      <th>precip</th>\n",
       "      <th>roll3precip</th>\n",
       "      <th>roll3uhc</th>\n",
       "    </tr>\n",
       "  </thead>\n",
       "  <tbody>\n",
       "    <tr>\n",
       "      <th>0</th>\n",
       "      <td>2012</td>\n",
       "      <td>1</td>\n",
       "      <td>486.0</td>\n",
       "      <td>0.40</td>\n",
       "      <td>NaN</td>\n",
       "      <td>485.500000</td>\n",
       "    </tr>\n",
       "    <tr>\n",
       "      <th>1</th>\n",
       "      <td>2012</td>\n",
       "      <td>2</td>\n",
       "      <td>485.0</td>\n",
       "      <td>1.19</td>\n",
       "      <td>NaN</td>\n",
       "      <td>458.666667</td>\n",
       "    </tr>\n",
       "    <tr>\n",
       "      <th>2</th>\n",
       "      <td>2012</td>\n",
       "      <td>3</td>\n",
       "      <td>405.0</td>\n",
       "      <td>0.97</td>\n",
       "      <td>2.56</td>\n",
       "      <td>447.666667</td>\n",
       "    </tr>\n",
       "    <tr>\n",
       "      <th>3</th>\n",
       "      <td>2012</td>\n",
       "      <td>4</td>\n",
       "      <td>453.0</td>\n",
       "      <td>0.88</td>\n",
       "      <td>3.04</td>\n",
       "      <td>457.000000</td>\n",
       "    </tr>\n",
       "    <tr>\n",
       "      <th>4</th>\n",
       "      <td>2012</td>\n",
       "      <td>5</td>\n",
       "      <td>513.0</td>\n",
       "      <td>0.02</td>\n",
       "      <td>1.87</td>\n",
       "      <td>489.333333</td>\n",
       "    </tr>\n",
       "  </tbody>\n",
       "</table>\n",
       "</div>"
      ],
      "text/plain": [
       "   year  month    uhc  precip  roll3precip    roll3uhc\n",
       "0  2012      1  486.0    0.40          NaN  485.500000\n",
       "1  2012      2  485.0    1.19          NaN  458.666667\n",
       "2  2012      3  405.0    0.97         2.56  447.666667\n",
       "3  2012      4  453.0    0.88         3.04  457.000000\n",
       "4  2012      5  513.0    0.02         1.87  489.333333"
      ]
     },
     "execution_count": 96,
     "metadata": {},
     "output_type": "execute_result"
    }
   ],
   "source": [
    "df.head()"
   ]
  },
  {
   "cell_type": "code",
   "execution_count": 101,
   "id": "9f246afa",
   "metadata": {},
   "outputs": [
    {
     "data": {
      "image/png": "[encoded data removed]",
      "text/plain": [
       "<Figure size 1152x576 with 1 Axes>"
      ]
     },
     "metadata": {
      "needs_background": "light"
     },
     "output_type": "display_data"
    }
   ],
   "source": [
    "yearChangeIndices = df['year'].diff().ne(0).to_numpy().nonzero()[0]\n",
    "plt.xticks(ticks=yearChangeIndices, labels=df.loc[yearChangeIndices, 'year'])\n",
    "plt.title(f\"{uhc} (rolling 3 month mean) from Jan 2012 to Feb 2024\")\n",
    "noLabels()\n",
    "plt.grid()\n",
    "\n",
    "sns.lineplot(data=df, x=df.index, y=\"roll3uhc\")\n",
    "plt.show()"
   ]
  },
  {
   "cell_type": "code",
   "execution_count": 93,
   "id": "40374904",
   "metadata": {},
   "outputs": [
    {
     "data": {
      "image/png": "[encoded data removed]",
      "text/plain": [
       "<Figure size 1152x576 with 1 Axes>"
      ]
     },
     "metadata": {
      "needs_background": "light"
     },
     "output_type": "display_data"
    }
   ],
   "source": [
    "plt.xticks(ticks=yearChangeIndices, labels=df.loc[yearChangeIndices, 'year'])\n",
    "plt.title(f\"Precipitation (sized by rolling 3 month sum) from Jan 2012 to Feb 2024\")\n",
    "plt.grid()\n",
    "noLabels()\n",
    "\n",
    "sns.scatterplot(data=df, x=df.index, y=\"precip\", size=\"roll3precip\", sizes=(2, 200))\n",
    "plt.show()"
   ]
  },
  {
   "cell_type": "markdown",
   "id": "5d6eb965",
   "metadata": {
    "deletable": false,
    "editable": false,
    "nbgrader": {
     "cell_type": "markdown",
     "checksum": "33e1b18aa9cae8c1990864f50b404469",
     "grade": false,
     "grade_id": "cell-e6c76e7f6e1c71e3",
     "locked": true,
     "schema_version": 3,
     "solution": false,
     "task": false
    }
   },
   "source": [
    "## Visualizations (4 pts.)\n",
    "\n",
    "This section should contain:\n",
    "\n",
    "- **2-3 graphs** showing specific patterns or features you'd like to highlight. \n",
    "- Each visualization should be accompanied by a **short (1-2 sentences) description** of what you think it shows.\n",
    "\n",
    "These should be **produced** using Python code (but the descriptions can be written in Markdown if you prefer)."
   ]
  },
  {
   "cell_type": "code",
   "execution_count": null,
   "id": "9c37a7a3",
   "metadata": {
    "deletable": false,
    "nbgrader": {
     "cell_type": "code",
     "checksum": "a597163aec829b97c7a41db2e7bef3a8",
     "grade": true,
     "grade_id": "cell-120b22cac5db4838",
     "locked": false,
     "points": 4,
     "schema_version": 3,
     "solution": true,
     "task": false
    }
   },
   "outputs": [],
   "source": [
    "# YOUR CODE HERE\n",
    "raise NotImplementedError()"
   ]
  },
  {
   "cell_type": "markdown",
   "id": "1301c586",
   "metadata": {
    "deletable": false,
    "editable": false,
    "nbgrader": {
     "cell_type": "markdown",
     "checksum": "223cfaedbb7ab47670cba6b0058ad6ed",
     "grade": false,
     "grade_id": "cell-37b5230e77171cc7",
     "locked": true,
     "schema_version": 3,
     "solution": false,
     "task": false
    }
   },
   "source": [
    "## Analyses (4 pts.)\n",
    "\n",
    "This section should contain:\n",
    "\n",
    "- **2-3 analyses** using methods discussed in class (e.g., linear regression, logistic regression, etc.) to address your question.\n",
    "- Each analysis should be accompanied by a short (1-3 sentences) **interpretation**. \n",
    "- Should also include **evaluation** of your model somehow, e.g., $R^2$, AIC, etc. \n",
    "\n",
    "These should be **produced** using Python code (but the interpretations can be written in Markdown if you prefer)."
   ]
  },
  {
   "cell_type": "code",
   "execution_count": null,
   "id": "d14ddc86",
   "metadata": {
    "deletable": false,
    "nbgrader": {
     "cell_type": "code",
     "checksum": "3f084b765382f233a586bf750643ee24",
     "grade": true,
     "grade_id": "cell-66677627b7a419fa",
     "locked": false,
     "points": 4,
     "schema_version": 3,
     "solution": true,
     "task": false
    }
   },
   "outputs": [],
   "source": [
    "# YOUR CODE HERE\n",
    "raise NotImplementedError()"
   ]
  },
  {
   "cell_type": "markdown",
   "id": "6d7f5aba",
   "metadata": {
    "deletable": false,
    "editable": false,
    "nbgrader": {
     "cell_type": "markdown",
     "checksum": "61f1d0ad60c20823b954ea89b843f802",
     "grade": false,
     "grade_id": "cell-a5325c91b659c826",
     "locked": true,
     "schema_version": 3,
     "solution": false,
     "task": false
    }
   },
   "source": [
    "## Limitations and Ethical Issues (3 pts.)\n",
    "\n",
    "This section should contain a discussion of any **limitations** to your analysis, as well as any **ethical issues**, if relevant.\n",
    "\n",
    "- Limitations could range from issues in the data (e.g., poor generalizability, biased sample) to the assumptions of the analysis (e.g., homoscedasticity vs. heteroscedasticity), and so on.\n",
    "- Ethical issues should focus on concepts covered in class, e.g., relating to bias and/or privacy.  \n",
    "\n",
    "These should be answered in Markdown."
   ]
  },
  {
   "cell_type": "markdown",
   "id": "2e044888",
   "metadata": {
    "deletable": false,
    "nbgrader": {
     "cell_type": "markdown",
     "checksum": "ae7175e48bab40b1a7cd4791e4092d8e",
     "grade": true,
     "grade_id": "cell-9832e54af5e26ab9",
     "locked": false,
     "points": 3,
     "schema_version": 3,
     "solution": true,
     "task": false
    }
   },
   "source": [
    "YOUR ANSWER HERE"
   ]
  },
  {
   "cell_type": "markdown",
   "id": "e038c114",
   "metadata": {
    "deletable": false,
    "editable": false,
    "nbgrader": {
     "cell_type": "markdown",
     "checksum": "b8df38dbdf222b38be541372daf62e2a",
     "grade": false,
     "grade_id": "cell-4c7aeea0528fef08",
     "locked": true,
     "schema_version": 3,
     "solution": false,
     "task": false
    }
   },
   "source": [
    "## Conclusion (1 pt.)\n",
    "\n",
    "Draw a conclusion about the dataset and the questions you posed.\n",
    "\n",
    "These should be answered in Markdown."
   ]
  },
  {
   "cell_type": "markdown",
   "id": "21489678",
   "metadata": {
    "deletable": false,
    "nbgrader": {
     "cell_type": "markdown",
     "checksum": "fe46eee630f1b3df39a57b292739c3ea",
     "grade": true,
     "grade_id": "cell-404f629cc2b165bd",
     "locked": false,
     "points": 1,
     "schema_version": 3,
     "solution": true,
     "task": false
    }
   },
   "source": [
    "YOUR ANSWER HERE"
   ]
  }
 ],
 "metadata": {
  "kernelspec": {
   "display_name": "Python 3",
   "language": "python",
   "name": "python3"
  },
  "language_info": {
   "codemirror_mode": {
    "name": "ipython",
    "version": 3
   },
   "file_extension": ".py",
   "mimetype": "text/x-python",
   "name": "python",
   "nbconvert_exporter": "python",
   "pygments_lexer": "ipython3",
   "version": "3.10.6"
  }
 },
 "nbformat": 4,
 "nbformat_minor": 5
}
